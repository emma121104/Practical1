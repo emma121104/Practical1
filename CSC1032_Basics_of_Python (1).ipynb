{
  "cells": [
    {
      "cell_type": "markdown",
      "metadata": {
        "deletable": true,
        "editable": true,
        "id": "-HHo6rHRPACG"
      },
      "source": [
        "## Welcome !\n",
        "This is a Python tutorial to give you the necessary background for\n",
        "***CSC1032--\"Introduction to Cybersecurity\"*** Module practicals.\n",
        "\n",
        "\n",
        "\n",
        "\n",
        "\n",
        "## Quick note about Jupyter cells\n",
        "\n",
        "When you are editing a cell in Jupyter notebook, you need to re-run the cell by pressing **`<Shift> + <Enter>`**. This will allow changes you made to be available to other cells.\n",
        "\n",
        "Use **`<Enter>`** to make new lines inside a cell you are editing.\n",
        "\n",
        "#### Code cells\n",
        "\n",
        "Re-running will execute any statements you have written. To edit an existing code cell, click on it.\n",
        "\n",
        "#### Markdown cells\n",
        "\n",
        "Re-running will render the markdown text. To edit an existing markdown cell, double-click on it.\n",
        "\n",
        "## Before starting:\n",
        "Please make a copy on your local Drive, or download the notebook to run it on a local machine\n",
        "\n",
        "\n"
      ]
    },
    {
      "cell_type": "markdown",
      "metadata": {
        "deletable": true,
        "editable": true,
        "id": "Lo-jvdAqPACJ"
      },
      "source": [
        "## Common Jupyter operations\n",
        "\n",
        "Near the top of the Jupyter notebook window, there are a row of menu options (`File`, `Edit`, `View`, `Insert`, ...) and a row of tool bar icons (disk, plus sign, scissors, 2 files, clipboard and file, up arrow, ...).\n",
        "\n",
        "#### Inserting and removing cells\n",
        "\n",
        "- Use the \"plus sign\" icon to insert a cell below the currently selected cell\n",
        "- Use \"Insert\" -> \"Insert Cell Above\" from the menu to insert above\n",
        "\n",
        "#### Clear the output of all cells\n",
        "\n",
        "- Use \"Kernel\" -> \"Restart\" from the menu to restart the kernel\n",
        "    - click on \"clear all outputs & restart\" to have all the output cleared\n",
        "\n",
        "#### Save your notebook file locally\n",
        "\n",
        "- Clear the output of all cells\n",
        "- Use \"File\" -> \"Download as\" -> \"IPython Notebook (.ipynb)\" to download a notebook file representing your https://mybinder.org session\n",
        "\n",
        "<hr>"
      ]
    },
    {
      "cell_type": "markdown",
      "metadata": {
        "deletable": true,
        "editable": true,
        "id": "GaxSay_ZPACJ"
      },
      "source": [
        "## References\n",
        "\n",
        "- https://jupyter-notebook.readthedocs.io/en/latest/notebook.html\n",
        "- https://mybinder.readthedocs.io/en/latest/introduction.html\n",
        "- https://docs.python.org/3/tutorial/index.html\n",
        "- https://docs.python.org/3/tutorial/introduction.html\n",
        "- https://daringfireball.net/projects/markdown/syntax\n",
        "\n",
        "<hr>"
      ]
    },
    {
      "cell_type": "markdown",
      "metadata": {
        "deletable": true,
        "editable": true,
        "id": "fl8U1Gt0PACJ"
      },
      "source": [
        "## Python objects, basic types, and variables\n",
        "\n",
        "Everything in Python is an **object** and every object in Python has a **type**. Some of the basic types include:\n",
        "\n",
        "- **`int`** (integer; a whole number with no decimal place)\n",
        "  - `10`\n",
        "  - `-3`\n",
        "- **`float`** (float; a number that has a decimal place)\n",
        "  - `7.41`\n",
        "  - `-0.006`\n",
        "- **`str`** (string; a sequence of characters enclosed in single quotes, double quotes, or triple quotes)\n",
        "  - `'this is a string using single quotes'`\n",
        "  - `\"this is a string using double quotes\"`\n",
        "  - `'''this is a triple quoted string using single quotes'''`\n",
        "  - `\"\"\"this is a triple quoted string using double quotes\"\"\"`\n",
        "- **`bool`** (boolean; a binary value that is either true or false)\n",
        "  - `True`\n",
        "  - `False`\n",
        "- **`NoneType`** (a special type representing the absence of a value)\n",
        "  - `None`\n",
        "\n",
        "In Python, a **variable** is a name you specify in your code that maps to a particular **object**, object **instance**, or value.\n",
        "\n",
        "By defining variables, we can refer to things by names that make sense to us. Names for variables can only contain letters, underscores (`_`), or numbers (no spaces, dashes, or other characters). Variable names must start with a letter or underscore.\n",
        "\n",
        "<hr>"
      ]
    },
    {
      "cell_type": "markdown",
      "metadata": {
        "deletable": true,
        "editable": true,
        "id": "2XJmYYO-PACK"
      },
      "source": [
        "## Basic operators\n",
        "\n",
        "In Python, there are different types of **operators** (special symbols) that operate on different values. Some of the basic operators include:\n",
        "\n",
        "- arithmetic operators\n",
        "  - **`+`** (addition)\n",
        "  - **`-`** (subtraction)\n",
        "  - **`*`** (multiplication)\n",
        "  - **`/`** (division)\n",
        "  - __`**`__ (exponent)\n",
        "- assignment operators\n",
        "  - **`=`** (assign a value)\n",
        "  - **`+=`** (add and re-assign; increment)\n",
        "  - **`-=`** (subtract and re-assign; decrement)\n",
        "  - **`*=`** (multiply and re-assign)\n",
        "- comparison operators (return either `True` or `False`)\n",
        "  - **`==`** (equal to)\n",
        "  - **`!=`** (not equal to)\n",
        "  - **`<`** (less than)\n",
        "  - **`<=`** (less than or equal to)\n",
        "  - **`>`** (greater than)\n",
        "  - **`>=`** (greater than or equal to)\n",
        "\n",
        "When multiple operators are used in a single expression, **operator precedence** determines which parts of the expression are evaluated in which order. Operators with higher precedence are evaluated first (like PEMDAS in math). Operators with the same precedence are evaluated from left to right.\n",
        "\n",
        "- `()` parentheses, for grouping\n",
        "- `**` exponent\n",
        "- `*`, `/` multiplication and division\n",
        "- `+`, `-` addition and subtraction\n",
        "- `==`, `!=`, `<`, `<=`, `>`, `>=` comparisons\n",
        "\n",
        "> See https://docs.python.org/3/reference/expressions.html#operator-precedence"
      ]
    },
    {
      "cell_type": "code",
      "execution_count": 5,
      "metadata": {
        "deletable": true,
        "editable": true,
        "id": "gyNqYXDAPACK"
      },
      "outputs": [],
      "source": [
        "# Assigning some numbers to different variables\n",
        "num1 = 10\n",
        "num2 = -3\n",
        "num3 = 7.41\n",
        "num4 = -.6\n",
        "num5 = 7\n",
        "num6 = 3\n",
        "num7 = 11.11"
      ]
    },
    {
      "cell_type": "code",
      "execution_count": 6,
      "metadata": {
        "deletable": true,
        "editable": true,
        "id": "UDGgTd3ZPACL",
        "outputId": "cddcdce7-62ab-4b2c-bb0f-29c57239e32a",
        "colab": {
          "base_uri": "https://localhost:8080/"
        }
      },
      "outputs": [
        {
          "output_type": "execute_result",
          "data": {
            "text/plain": [
              "7"
            ]
          },
          "metadata": {},
          "execution_count": 6
        }
      ],
      "source": [
        "# Addition\n",
        "num1 + num2"
      ]
    },
    {
      "cell_type": "code",
      "execution_count": 7,
      "metadata": {
        "deletable": true,
        "editable": true,
        "id": "sOBR3WPhPACM",
        "outputId": "67a50a54-1810-411e-e4b7-d6509173b482",
        "colab": {
          "base_uri": "https://localhost:8080/"
        }
      },
      "outputs": [
        {
          "output_type": "execute_result",
          "data": {
            "text/plain": [
              "-10.41"
            ]
          },
          "metadata": {},
          "execution_count": 7
        }
      ],
      "source": [
        "# Subtraction\n",
        "num2 - num3"
      ]
    },
    {
      "cell_type": "code",
      "execution_count": 8,
      "metadata": {
        "deletable": true,
        "editable": true,
        "id": "uCUEk8w9PACM",
        "outputId": "82721a32-4d81-4128-d324-5a5449e30239",
        "colab": {
          "base_uri": "https://localhost:8080/"
        }
      },
      "outputs": [
        {
          "output_type": "execute_result",
          "data": {
            "text/plain": [
              "-4.446"
            ]
          },
          "metadata": {},
          "execution_count": 8
        }
      ],
      "source": [
        "# Multiplication\n",
        "num3 * num4"
      ]
    },
    {
      "cell_type": "code",
      "execution_count": 9,
      "metadata": {
        "deletable": true,
        "editable": true,
        "id": "6Fvw8a8WPACM",
        "outputId": "111a739a-e6f7-47fe-b405-6dacf719fdc9",
        "colab": {
          "base_uri": "https://localhost:8080/"
        }
      },
      "outputs": [
        {
          "output_type": "execute_result",
          "data": {
            "text/plain": [
              "-0.08571428571428572"
            ]
          },
          "metadata": {},
          "execution_count": 9
        }
      ],
      "source": [
        "# Division\n",
        "num4 / num5"
      ]
    },
    {
      "cell_type": "code",
      "execution_count": 10,
      "metadata": {
        "deletable": true,
        "editable": true,
        "id": "sH8fY1DAPACM",
        "outputId": "478111e1-4956-4825-9f36-00c7fa116b11",
        "colab": {
          "base_uri": "https://localhost:8080/"
        }
      },
      "outputs": [
        {
          "output_type": "execute_result",
          "data": {
            "text/plain": [
              "343"
            ]
          },
          "metadata": {},
          "execution_count": 10
        }
      ],
      "source": [
        "# Exponent\n",
        "num5 ** num6"
      ]
    },
    {
      "cell_type": "code",
      "execution_count": 11,
      "metadata": {
        "deletable": true,
        "editable": true,
        "id": "9hKa8YcMPACN",
        "outputId": "58ed1662-8e93-4fe9-9cab-1d1ec3301c03",
        "colab": {
          "base_uri": "https://localhost:8080/"
        }
      },
      "outputs": [
        {
          "output_type": "execute_result",
          "data": {
            "text/plain": [
              "15.11"
            ]
          },
          "metadata": {},
          "execution_count": 11
        }
      ],
      "source": [
        "# Increment existing variable\n",
        "num7 += 4\n",
        "num7"
      ]
    },
    {
      "cell_type": "code",
      "execution_count": 12,
      "metadata": {
        "deletable": true,
        "editable": true,
        "id": "d5BJgeqWPACN",
        "outputId": "261cf68e-8099-4ccd-b743-f50636ad3621",
        "colab": {
          "base_uri": "https://localhost:8080/"
        }
      },
      "outputs": [
        {
          "output_type": "execute_result",
          "data": {
            "text/plain": [
              "1"
            ]
          },
          "metadata": {},
          "execution_count": 12
        }
      ],
      "source": [
        "# Decrement existing variable\n",
        "num6 -= 2\n",
        "num6"
      ]
    },
    {
      "cell_type": "code",
      "execution_count": 13,
      "metadata": {
        "deletable": true,
        "editable": true,
        "id": "B7BcbJpdPACN",
        "outputId": "245b28b6-cfc7-4022-cd4d-1d8b6fd0939f",
        "colab": {
          "base_uri": "https://localhost:8080/"
        }
      },
      "outputs": [
        {
          "output_type": "execute_result",
          "data": {
            "text/plain": [
              "37.05"
            ]
          },
          "metadata": {},
          "execution_count": 13
        }
      ],
      "source": [
        "# Multiply & re-assign\n",
        "num3 *= 5\n",
        "num3"
      ]
    },
    {
      "cell_type": "code",
      "execution_count": 14,
      "metadata": {
        "deletable": true,
        "editable": true,
        "id": "m0ilBAi_PACN",
        "outputId": "6487398f-8188-4ee2-fadd-acd015ef6d06",
        "colab": {
          "base_uri": "https://localhost:8080/"
        }
      },
      "outputs": [
        {
          "output_type": "execute_result",
          "data": {
            "text/plain": [
              "-101.14999999999999"
            ]
          },
          "metadata": {},
          "execution_count": 14
        }
      ],
      "source": [
        "# Assign the value of an expression to a variable\n",
        "num8 = num1 + num2 * num3\n",
        "num8"
      ]
    },
    {
      "cell_type": "code",
      "execution_count": 15,
      "metadata": {
        "deletable": true,
        "editable": true,
        "id": "V5LV7OoIPACN",
        "outputId": "44b5b33c-a817-455f-9bfd-ce3a56d2de9d",
        "colab": {
          "base_uri": "https://localhost:8080/"
        }
      },
      "outputs": [
        {
          "output_type": "execute_result",
          "data": {
            "text/plain": [
              "True"
            ]
          },
          "metadata": {},
          "execution_count": 15
        }
      ],
      "source": [
        "# Are these two expressions equal to each other?\n",
        "num1 + num2 == num5"
      ]
    },
    {
      "cell_type": "code",
      "execution_count": 16,
      "metadata": {
        "deletable": true,
        "editable": true,
        "id": "tmPom7Y9PACO",
        "outputId": "8ac72210-08e3-42df-8444-a7cf96dfa648",
        "colab": {
          "base_uri": "https://localhost:8080/"
        }
      },
      "outputs": [
        {
          "output_type": "execute_result",
          "data": {
            "text/plain": [
              "True"
            ]
          },
          "metadata": {},
          "execution_count": 16
        }
      ],
      "source": [
        "# Are these two expressions not equal to each other?\n",
        "num3 != num4"
      ]
    },
    {
      "cell_type": "code",
      "execution_count": 17,
      "metadata": {
        "deletable": true,
        "editable": true,
        "id": "2Lt4E2hpPACO",
        "outputId": "3589f5ce-7ef0-4556-8a5d-22a44445f4b2",
        "colab": {
          "base_uri": "https://localhost:8080/"
        }
      },
      "outputs": [
        {
          "output_type": "execute_result",
          "data": {
            "text/plain": [
              "False"
            ]
          },
          "metadata": {},
          "execution_count": 17
        }
      ],
      "source": [
        "# Is the first expression less than the second expression?\n",
        "num5 < num6"
      ]
    },
    {
      "cell_type": "code",
      "execution_count": 18,
      "metadata": {
        "deletable": true,
        "editable": true,
        "id": "nGFJ1q0sPACO",
        "outputId": "7f805fb3-60f4-4805-f4bb-93550f466020",
        "colab": {
          "base_uri": "https://localhost:8080/"
        }
      },
      "outputs": [
        {
          "output_type": "execute_result",
          "data": {
            "text/plain": [
              "True"
            ]
          },
          "metadata": {},
          "execution_count": 18
        }
      ],
      "source": [
        "# Is this expression True?\n",
        "5 > 3 > 1"
      ]
    },
    {
      "cell_type": "code",
      "execution_count": 19,
      "metadata": {
        "deletable": true,
        "editable": true,
        "id": "kBQWjCacPACO",
        "outputId": "56810c60-d924-4606-af67-1fc1f4419ae2",
        "colab": {
          "base_uri": "https://localhost:8080/"
        }
      },
      "outputs": [
        {
          "output_type": "execute_result",
          "data": {
            "text/plain": [
              "True"
            ]
          },
          "metadata": {},
          "execution_count": 19
        }
      ],
      "source": [
        "# Is this expression True?\n",
        "5 > 3 < 4 == 3 + 1"
      ]
    },
    {
      "cell_type": "code",
      "execution_count": 20,
      "metadata": {
        "collapsed": true,
        "deletable": true,
        "editable": true,
        "id": "21Jv7jOUPACO"
      },
      "outputs": [],
      "source": [
        "# Assign some strings to different variables\n",
        "simple_string1 = 'an example'\n",
        "simple_string2 = \"oranges \""
      ]
    },
    {
      "cell_type": "code",
      "execution_count": 21,
      "metadata": {
        "deletable": true,
        "editable": true,
        "id": "jmZdFIdaPACO",
        "outputId": "95454ee4-cfa9-496e-8757-6c184d345ea8",
        "colab": {
          "base_uri": "https://localhost:8080/",
          "height": 35
        }
      },
      "outputs": [
        {
          "output_type": "execute_result",
          "data": {
            "text/plain": [
              "'an example of using the + operator'"
            ],
            "application/vnd.google.colaboratory.intrinsic+json": {
              "type": "string"
            }
          },
          "metadata": {},
          "execution_count": 21
        }
      ],
      "source": [
        "# Addition\n",
        "simple_string1 + ' of using the + operator'"
      ]
    },
    {
      "cell_type": "code",
      "execution_count": 22,
      "metadata": {
        "deletable": true,
        "editable": true,
        "id": "55lKSJB8PACO",
        "outputId": "118cf46a-a589-4365-d36c-c5205807ad3b",
        "colab": {
          "base_uri": "https://localhost:8080/",
          "height": 35
        }
      },
      "outputs": [
        {
          "output_type": "execute_result",
          "data": {
            "text/plain": [
              "'an example'"
            ],
            "application/vnd.google.colaboratory.intrinsic+json": {
              "type": "string"
            }
          },
          "metadata": {},
          "execution_count": 22
        }
      ],
      "source": [
        "# Notice that the string was not modified\n",
        "simple_string1"
      ]
    },
    {
      "cell_type": "code",
      "execution_count": 23,
      "metadata": {
        "deletable": true,
        "editable": true,
        "id": "KNDwHrjNPACO",
        "outputId": "6038deeb-eec3-4c3b-f1b2-31a140fa1ade",
        "colab": {
          "base_uri": "https://localhost:8080/",
          "height": 35
        }
      },
      "outputs": [
        {
          "output_type": "execute_result",
          "data": {
            "text/plain": [
              "'oranges oranges oranges oranges '"
            ],
            "application/vnd.google.colaboratory.intrinsic+json": {
              "type": "string"
            }
          },
          "metadata": {},
          "execution_count": 23
        }
      ],
      "source": [
        "# Multiplication\n",
        "simple_string2 * 4"
      ]
    },
    {
      "cell_type": "code",
      "execution_count": 24,
      "metadata": {
        "deletable": true,
        "editable": true,
        "id": "zPnjCyJxPACP",
        "outputId": "360e9f73-a57a-42aa-d2bc-2bf73c0f1e08",
        "colab": {
          "base_uri": "https://localhost:8080/",
          "height": 35
        }
      },
      "outputs": [
        {
          "output_type": "execute_result",
          "data": {
            "text/plain": [
              "'oranges '"
            ],
            "application/vnd.google.colaboratory.intrinsic+json": {
              "type": "string"
            }
          },
          "metadata": {},
          "execution_count": 24
        }
      ],
      "source": [
        "# This string wasn't modified either\n",
        "simple_string2"
      ]
    },
    {
      "cell_type": "code",
      "execution_count": 25,
      "metadata": {
        "deletable": true,
        "editable": true,
        "id": "Cc-LEmu-PACP",
        "outputId": "e4fc9d63-b643-4834-ee1d-5b2ccbe3f502",
        "colab": {
          "base_uri": "https://localhost:8080/"
        }
      },
      "outputs": [
        {
          "output_type": "execute_result",
          "data": {
            "text/plain": [
              "False"
            ]
          },
          "metadata": {},
          "execution_count": 25
        }
      ],
      "source": [
        "# Are these two expressions equal to each other?\n",
        "simple_string1 == simple_string2"
      ]
    },
    {
      "cell_type": "code",
      "execution_count": 26,
      "metadata": {
        "deletable": true,
        "editable": true,
        "id": "2TqyF71iPACP",
        "outputId": "44dcaf11-34f1-4ff1-86a0-2171553dfa70",
        "colab": {
          "base_uri": "https://localhost:8080/"
        }
      },
      "outputs": [
        {
          "output_type": "execute_result",
          "data": {
            "text/plain": [
              "True"
            ]
          },
          "metadata": {},
          "execution_count": 26
        }
      ],
      "source": [
        "# Are these two expressions equal to each other?\n",
        "simple_string1 == 'an example'"
      ]
    },
    {
      "cell_type": "code",
      "execution_count": 27,
      "metadata": {
        "deletable": true,
        "editable": true,
        "id": "zqhLtmycPACP",
        "outputId": "0301e07a-3d40-476f-cc36-ba66ef6dd790",
        "colab": {
          "base_uri": "https://localhost:8080/",
          "height": 35
        }
      },
      "outputs": [
        {
          "output_type": "execute_result",
          "data": {
            "text/plain": [
              "'an example that re-assigned the original string'"
            ],
            "application/vnd.google.colaboratory.intrinsic+json": {
              "type": "string"
            }
          },
          "metadata": {},
          "execution_count": 27
        }
      ],
      "source": [
        "# Add and re-assign\n",
        "simple_string1 += ' that re-assigned the original string'\n",
        "simple_string1"
      ]
    },
    {
      "cell_type": "code",
      "execution_count": 28,
      "metadata": {
        "deletable": true,
        "editable": true,
        "id": "y1oY-CmOPACP",
        "outputId": "54b6956e-bf23-4114-fc12-08877cbf108f",
        "colab": {
          "base_uri": "https://localhost:8080/",
          "height": 35
        }
      },
      "outputs": [
        {
          "output_type": "execute_result",
          "data": {
            "text/plain": [
              "'oranges oranges oranges '"
            ],
            "application/vnd.google.colaboratory.intrinsic+json": {
              "type": "string"
            }
          },
          "metadata": {},
          "execution_count": 28
        }
      ],
      "source": [
        "# Multiply and re-assign\n",
        "simple_string2 *= 3\n",
        "simple_string2"
      ]
    },
    {
      "cell_type": "code",
      "execution_count": 29,
      "metadata": {
        "collapsed": true,
        "deletable": true,
        "editable": true,
        "id": "NmxNPckFPACP"
      },
      "outputs": [],
      "source": [
        "# Note: Subtraction, division, and decrement operators do not apply to strings."
      ]
    },
    {
      "cell_type": "markdown",
      "source": [
        "# Mod and div operations\n",
        "\n",
        "In Python, you can use the modulo operator `%` to calculate the remainder of the division of one integer by another, and the floor division operator `//` to calculate the quotient of the division of one integer by another.\n",
        "\n",
        "The syntax for the modulo operator is:\n",
        "\n",
        "```python\n",
        "x % y\n",
        "\n",
        "Where x is the dividend and y is the divisor.\n",
        "\n",
        "The syntax for the floor division operator is:\n",
        "\n",
        "x // y"
      ],
      "metadata": {
        "id": "JTz3QSt5vSpv"
      }
    },
    {
      "cell_type": "code",
      "source": [
        "print(10 % 3)  # prints 1 (10 mod 3)\n",
        "print(10 // 3)  # prints 3 (10 div 3)"
      ],
      "metadata": {
        "colab": {
          "base_uri": "https://localhost:8080/"
        },
        "id": "CpwHcs6ZvdC2",
        "outputId": "96d1b642-fbea-4150-c1fa-a2225cbcabb7"
      },
      "execution_count": 30,
      "outputs": [
        {
          "output_type": "stream",
          "name": "stdout",
          "text": [
            "1\n",
            "3\n"
          ]
        }
      ]
    },
    {
      "cell_type": "markdown",
      "source": [
        "#ASCII\n",
        "\n",
        "ASCII (American Standard Code for Information Interchange) is a character encoding standard that represents characters as integers. Each character is assigned a unique integer between 0 and 127.\n",
        "\n",
        "You can use the ord() function to get the ASCII value of a character, and the chr() function to get the character corresponding to an ASCII value.\n",
        "\n",
        "\n",
        "Here is an example of how to use the ord() and chr() functions:"
      ],
      "metadata": {
        "id": "cletyO21vyPU"
      }
    },
    {
      "cell_type": "code",
      "source": [
        "print(ord('A'))  # prints 65\n",
        "print(ord('B'))  # prints 66\n",
        "print(ord('a'))  # prints 97\n",
        "print(ord('b'))  # prints 98\n",
        "\n"
      ],
      "metadata": {
        "colab": {
          "base_uri": "https://localhost:8080/"
        },
        "id": "B4Kza7dCv4TO",
        "outputId": "c73be624-8c3f-4adf-aac5-5a4de6aa9adf"
      },
      "execution_count": 31,
      "outputs": [
        {
          "output_type": "stream",
          "name": "stdout",
          "text": [
            "65\n",
            "66\n",
            "97\n",
            "98\n"
          ]
        }
      ]
    },
    {
      "cell_type": "markdown",
      "source": [
        "#The chr() function\n",
        "\n",
        "The chr() function is a built-in function in Python that returns the character corresponding to an ASCII value.\n",
        "The syntax for the chr() function is:\n",
        "\n",
        "chr(x)\n",
        "Where x is an ASCII value.\n"
      ],
      "metadata": {
        "id": "kdjleoRUwZfk"
      }
    },
    {
      "cell_type": "code",
      "source": [
        "print(chr(65))  # prints 'A'\n",
        "print(chr(66))  # prints 'B'\n",
        "print(chr(97))  # prints 'a'\n",
        "print(chr(98))  # prints 'b'"
      ],
      "metadata": {
        "id": "x2uDBHwSwZ3C",
        "colab": {
          "base_uri": "https://localhost:8080/"
        },
        "outputId": "26bd5c37-d2a6-45a1-a949-17c98ef3ea43"
      },
      "execution_count": 32,
      "outputs": [
        {
          "output_type": "stream",
          "name": "stdout",
          "text": [
            "A\n",
            "B\n",
            "a\n",
            "b\n"
          ]
        }
      ]
    },
    {
      "cell_type": "markdown",
      "source": [
        "You can also use the chr() function to get the character corresponding to an ASCII value stored in a variable:"
      ],
      "metadata": {
        "id": "8_Mmnzl-wyj3"
      }
    },
    {
      "cell_type": "code",
      "source": [
        "ascii_value = 65\n",
        "\n",
        "print(chr(ascii_value))  # prints 'A'"
      ],
      "metadata": {
        "id": "6xhZUIOiwzha",
        "colab": {
          "base_uri": "https://localhost:8080/"
        },
        "outputId": "9a6797a9-8c76-4426-c465-46933590fb6e"
      },
      "execution_count": 33,
      "outputs": [
        {
          "output_type": "stream",
          "name": "stdout",
          "text": [
            "A\n"
          ]
        }
      ]
    },
    {
      "cell_type": "markdown",
      "metadata": {
        "deletable": true,
        "editable": true,
        "id": "kghJyr63PACP"
      },
      "source": [
        "## Basic containers\n",
        "\n",
        "> Note: **mutable** objects can be modified after creation and **immutable** objects cannot.\n",
        "\n",
        "Containers are objects that can be used to group other objects together. The basic container types include:\n",
        "\n",
        "- **`str`** (string: immutable; indexed by integers; items are stored in the order they were added)\n",
        "- **`list`** (list: mutable; indexed by integers; items are stored in the order they were added)\n",
        "  - `[3, 5, 6, 3, 'dog', 'cat', False]`\n",
        "- **`tuple`** (tuple: immutable; indexed by integers; items are stored in the order they were added)\n",
        "  - `(3, 5, 6, 3, 'dog', 'cat', False)`\n",
        "- **`set`** (set: mutable; not indexed at all; items are NOT stored in the order they were added; can only contain immutable objects; does NOT contain duplicate objects)\n",
        "  - `{3, 5, 6, 3, 'dog', 'cat', False}`\n",
        "\n",
        "When defining lists, tuples, or sets, use commas (,) to separate the individual items.\n",
        "\n",
        "Strings, lists, and tuples are all **sequence types** that can use the `+`, `*`, `+=`, and `*=` operators."
      ]
    },
    {
      "cell_type": "code",
      "execution_count": 34,
      "metadata": {
        "collapsed": true,
        "deletable": true,
        "editable": true,
        "id": "YDOtQtFfPACP"
      },
      "outputs": [],
      "source": [
        "# Assign some containers to different variables\n",
        "list1 = [3, 5, 6, 3, 'dog', 'cat', False]\n",
        "tuple1 = (3, 5, 6, 3, 'dog', 'cat', False)\n",
        "set1 = {3, 5, 6, 3, 'dog', 'cat', False}"
      ]
    },
    {
      "cell_type": "code",
      "execution_count": 35,
      "metadata": {
        "deletable": true,
        "editable": true,
        "id": "YrVdVucSPACP",
        "outputId": "4c6c638b-406e-4278-cca4-63e8aa301141",
        "colab": {
          "base_uri": "https://localhost:8080/"
        }
      },
      "outputs": [
        {
          "output_type": "execute_result",
          "data": {
            "text/plain": [
              "[3, 5, 6, 3, 'dog', 'cat', False]"
            ]
          },
          "metadata": {},
          "execution_count": 35
        }
      ],
      "source": [
        "# Items in the list object are stored in the order they were added\n",
        "list1"
      ]
    },
    {
      "cell_type": "code",
      "execution_count": 36,
      "metadata": {
        "deletable": true,
        "editable": true,
        "id": "QFCIbPnLPACQ",
        "outputId": "7ec271ca-ffe8-4b65-aef2-bcbdd1cc8cd3",
        "colab": {
          "base_uri": "https://localhost:8080/"
        }
      },
      "outputs": [
        {
          "output_type": "execute_result",
          "data": {
            "text/plain": [
              "(3, 5, 6, 3, 'dog', 'cat', False)"
            ]
          },
          "metadata": {},
          "execution_count": 36
        }
      ],
      "source": [
        "# Items in the tuple object are stored in the order they were added\n",
        "tuple1"
      ]
    },
    {
      "cell_type": "code",
      "execution_count": 37,
      "metadata": {
        "deletable": true,
        "editable": true,
        "id": "I3rxEc7HPACQ",
        "outputId": "6a7b8afc-6cae-42c3-bde3-29c39ae0dd3b",
        "colab": {
          "base_uri": "https://localhost:8080/"
        }
      },
      "outputs": [
        {
          "output_type": "execute_result",
          "data": {
            "text/plain": [
              "{3, 5, 6, False, 'cat', 'dog'}"
            ]
          },
          "metadata": {},
          "execution_count": 37
        }
      ],
      "source": [
        "# Items in the set object are not stored in the order they were added\n",
        "# Also, notice that the value 3 only appears once in this set object\n",
        "set1"
      ]
    },
    {
      "cell_type": "code",
      "execution_count": 38,
      "metadata": {
        "deletable": true,
        "editable": true,
        "id": "9T7VmYrAPACQ",
        "outputId": "c4df522a-cc41-472c-8f62-f4ecb243cb01",
        "colab": {
          "base_uri": "https://localhost:8080/"
        }
      },
      "outputs": [
        {
          "output_type": "execute_result",
          "data": {
            "text/plain": [
              "[3, 5, 6, 3, 'dog', 'cat', False, 5, 'grapes']"
            ]
          },
          "metadata": {},
          "execution_count": 38
        }
      ],
      "source": [
        "# Add and re-assign\n",
        "list1 += [5, 'grapes']\n",
        "list1"
      ]
    },
    {
      "cell_type": "code",
      "execution_count": 39,
      "metadata": {
        "deletable": true,
        "editable": true,
        "id": "GL81j4dBPACQ",
        "outputId": "9487df22-a15e-41ee-ec81-b7b8d57c32d4",
        "colab": {
          "base_uri": "https://localhost:8080/"
        }
      },
      "outputs": [
        {
          "output_type": "execute_result",
          "data": {
            "text/plain": [
              "(3, 5, 6, 3, 'dog', 'cat', False, 5, 'grapes')"
            ]
          },
          "metadata": {},
          "execution_count": 39
        }
      ],
      "source": [
        "# Add and re-assign\n",
        "tuple1 += (5, 'grapes')\n",
        "tuple1"
      ]
    },
    {
      "cell_type": "markdown",
      "metadata": {
        "deletable": true,
        "editable": true,
        "id": "RiUlKTqwPACQ"
      },
      "source": [
        "## Accessing data in containers\n",
        "\n",
        "For strings, lists, tuples, and dicts, we can use **subscript notation** (square brackets) to access data at an index.\n",
        "\n",
        "- strings, lists, and tuples are indexed by integers, **starting at 0** for first item\n",
        "  - these sequence types also support accesing a range of items, known as **slicing**\n",
        "  - use **negative indexing** to start at the back of the sequence\n",
        "\n",
        "> Note: sets are not indexed, so we cannot use subscript notation to access data elements."
      ]
    },
    {
      "cell_type": "code",
      "execution_count": 40,
      "metadata": {
        "deletable": true,
        "editable": true,
        "id": "W2BLl9y5PACQ",
        "outputId": "d56fa250-d6cc-4b99-9cb8-00c91125f110",
        "colab": {
          "base_uri": "https://localhost:8080/"
        }
      },
      "outputs": [
        {
          "output_type": "execute_result",
          "data": {
            "text/plain": [
              "3"
            ]
          },
          "metadata": {},
          "execution_count": 40
        }
      ],
      "source": [
        "# Access the first item in a sequence\n",
        "list1[0]"
      ]
    },
    {
      "cell_type": "code",
      "execution_count": 41,
      "metadata": {
        "deletable": true,
        "editable": true,
        "id": "YdZbiJf9PACQ",
        "outputId": "766f4baf-5062-47ff-b92c-ae115fe4f95b",
        "colab": {
          "base_uri": "https://localhost:8080/",
          "height": 35
        }
      },
      "outputs": [
        {
          "output_type": "execute_result",
          "data": {
            "text/plain": [
              "'grapes'"
            ],
            "application/vnd.google.colaboratory.intrinsic+json": {
              "type": "string"
            }
          },
          "metadata": {},
          "execution_count": 41
        }
      ],
      "source": [
        "# Access the last item in a sequence\n",
        "tuple1[-1]"
      ]
    },
    {
      "cell_type": "code",
      "execution_count": 42,
      "metadata": {
        "deletable": true,
        "editable": true,
        "id": "2WMUAwgDPACR",
        "outputId": "e9c2bfae-f808-4d2b-8c8b-9c536f6448c3",
        "colab": {
          "base_uri": "https://localhost:8080/",
          "height": 35
        }
      },
      "outputs": [
        {
          "output_type": "execute_result",
          "data": {
            "text/plain": [
              "'examp'"
            ],
            "application/vnd.google.colaboratory.intrinsic+json": {
              "type": "string"
            }
          },
          "metadata": {},
          "execution_count": 42
        }
      ],
      "source": [
        "# Access a range of items in a sequence\n",
        "simple_string1[3:8]"
      ]
    },
    {
      "cell_type": "code",
      "execution_count": 43,
      "metadata": {
        "deletable": true,
        "editable": true,
        "id": "A7vSXE76PACR",
        "outputId": "d42e583c-9b5a-4585-8e8b-10a28c842996",
        "colab": {
          "base_uri": "https://localhost:8080/"
        }
      },
      "outputs": [
        {
          "output_type": "execute_result",
          "data": {
            "text/plain": [
              "(3, 5, 6, 3, 'dog', 'cat')"
            ]
          },
          "metadata": {},
          "execution_count": 43
        }
      ],
      "source": [
        "# Access a range of items in a sequence\n",
        "tuple1[:-3]"
      ]
    },
    {
      "cell_type": "code",
      "execution_count": 44,
      "metadata": {
        "deletable": true,
        "editable": true,
        "id": "uKtQlekOPACR",
        "outputId": "1336028b-a397-43c9-fc5d-9b0b8338a3ed",
        "colab": {
          "base_uri": "https://localhost:8080/"
        }
      },
      "outputs": [
        {
          "output_type": "execute_result",
          "data": {
            "text/plain": [
              "['dog', 'cat', False, 5, 'grapes']"
            ]
          },
          "metadata": {},
          "execution_count": 44
        }
      ],
      "source": [
        "# Access a range of items in a sequence\n",
        "list1[4:]"
      ]
    },
    {
      "cell_type": "code",
      "execution_count": 45,
      "metadata": {
        "deletable": true,
        "editable": true,
        "id": "nO3rhJaXPACR",
        "outputId": "b13d1127-5e20-41c7-f525-b634f3d20c99",
        "colab": {
          "base_uri": "https://localhost:8080/"
        }
      },
      "outputs": [
        {
          "output_type": "execute_result",
          "data": {
            "text/plain": [
              "24"
            ]
          },
          "metadata": {},
          "execution_count": 45
        }
      ],
      "source": [
        "# Use the len() function to determine how many items are in a container\n",
        "len(simple_string2)"
      ]
    },
    {
      "cell_type": "markdown",
      "source": [
        "## What is String in Python?\n",
        "\n",
        "A string is a built-in type sequence of characters. It is used to handle **textual data** in python. Python **Strings are immutable sequences** of **Unicode** points. Creating Strings are simplest and easy to use in Python.\n",
        "\n",
        "## How to access characters in a string?\n",
        "\n",
        "> Bloc en retrait\n",
        "\n",
        "\n",
        "\n",
        "* In Python, Strings are stored as individual characters in a **contiguous memory location**.\n",
        "\n",
        "* The benefit of using String is that it can be accessed from both the **directions** (forward and backward).\n",
        "\n",
        "* Both forward as well as backward indexing are provided using Strings in Python.\n",
        "\n",
        "* Forward indexing starts with **`0,1,2,3,.... `**\n",
        "\n",
        "* Backward indexing starts with **`-1,-2,-3,-4,.... `**\n",
        "\n",
        "* Trying to access a character out of index range will raise an **`IndexError`**. The index must be an integer. We can't use floats or other types, this will result into **`IndexError`**.\n",
        "\n",
        "* Strings can be indexed with square brackets. Indexing starts from zero in Python.\n",
        "\n",
        "* We can access a range of items in a string by using the slicing operator **`:`**(colon).\n",
        "\n",
        "* And the **`len()`** function provides the length of a string\n",
        "\n",
        "```python\n",
        "str[0] = 'P' = str[-6] ,\n",
        "str[1] = 'Y' = str[-5] ,\n",
        "str[2] = 'T' = str[-4] ,\n",
        "str[3] = 'H' = str[-3] ,\n",
        "str[4] = 'O' = str[-2] , # refers to the second last item\n",
        "str[5] = 'N' = str[-1].  # refers to the last item\n",
        "```\n",
        "\n",
        "<div>\n",
        "<img src=\"img/s3.png\" width=\"300\"/>\n",
        "</div>"
      ],
      "metadata": {
        "id": "u7bchQYvoufm"
      }
    },
    {
      "cell_type": "markdown",
      "metadata": {
        "deletable": true,
        "editable": true,
        "id": "Lkf3avlrPACT"
      },
      "source": [
        "## Some methods on string objects\n",
        "\n",
        "- **`.capitalize()`** to return a capitalized version of the string (only first char uppercase)\n",
        "- **`.upper()`** to return an uppercase version of the string (all chars uppercase)\n",
        "- **`.lower()`** to return an lowercase version of the string (all chars lowercase)\n",
        "- **`.count(substring)`** to return the number of occurences of the substring in the string\n",
        "- **`.startswith(substring)`** to determine if the string starts with the substring\n",
        "- **`.endswith(substring)`** to determine if the string ends with the substring\n",
        "- **`.replace(old, new)`** to return a copy of the string with occurences of the \"old\" replaced by \"new\""
      ]
    },
    {
      "cell_type": "code",
      "execution_count": 46,
      "metadata": {
        "deletable": true,
        "editable": true,
        "id": "J7vt1gFIPACT"
      },
      "outputs": [],
      "source": [
        "# Assign a string to a variable\n",
        "a_string = 'tHis is a sTriNg'"
      ]
    },
    {
      "cell_type": "code",
      "execution_count": 47,
      "metadata": {
        "deletable": true,
        "editable": true,
        "id": "rhHO2ZK_PACT",
        "outputId": "7137e9b8-be25-4290-b183-3a0fd6c2a72f",
        "colab": {
          "base_uri": "https://localhost:8080/",
          "height": 35
        }
      },
      "outputs": [
        {
          "output_type": "execute_result",
          "data": {
            "text/plain": [
              "'This is a string'"
            ],
            "application/vnd.google.colaboratory.intrinsic+json": {
              "type": "string"
            }
          },
          "metadata": {},
          "execution_count": 47
        }
      ],
      "source": [
        "# Return a capitalized version of the string\n",
        "a_string.capitalize()"
      ]
    },
    {
      "cell_type": "code",
      "execution_count": 48,
      "metadata": {
        "deletable": true,
        "editable": true,
        "id": "aWKdAHTHPACT",
        "outputId": "4ddd1aa6-7da5-4fbd-b661-ecbf28099793",
        "colab": {
          "base_uri": "https://localhost:8080/",
          "height": 35
        }
      },
      "outputs": [
        {
          "output_type": "execute_result",
          "data": {
            "text/plain": [
              "'THIS IS A STRING'"
            ],
            "application/vnd.google.colaboratory.intrinsic+json": {
              "type": "string"
            }
          },
          "metadata": {},
          "execution_count": 48
        }
      ],
      "source": [
        "# Return an uppercase version of the string\n",
        "a_string.upper()"
      ]
    },
    {
      "cell_type": "code",
      "execution_count": 49,
      "metadata": {
        "deletable": true,
        "editable": true,
        "id": "L3LtKGvHPACT",
        "outputId": "a921467c-3a42-4188-98d1-b45c0e4c857c",
        "colab": {
          "base_uri": "https://localhost:8080/",
          "height": 35
        }
      },
      "outputs": [
        {
          "output_type": "execute_result",
          "data": {
            "text/plain": [
              "'this is a string'"
            ],
            "application/vnd.google.colaboratory.intrinsic+json": {
              "type": "string"
            }
          },
          "metadata": {},
          "execution_count": 49
        }
      ],
      "source": [
        "# Return a lowercase version of the string\n",
        "a_string.lower()"
      ]
    },
    {
      "cell_type": "code",
      "execution_count": 50,
      "metadata": {
        "deletable": true,
        "editable": true,
        "id": "gHe8vxXNPACT",
        "outputId": "728b638a-9603-4e56-d88b-d6a4943e1528",
        "colab": {
          "base_uri": "https://localhost:8080/",
          "height": 35
        }
      },
      "outputs": [
        {
          "output_type": "execute_result",
          "data": {
            "text/plain": [
              "'tHis is a sTriNg'"
            ],
            "application/vnd.google.colaboratory.intrinsic+json": {
              "type": "string"
            }
          },
          "metadata": {},
          "execution_count": 50
        }
      ],
      "source": [
        "# Notice that the methods called have not actually modified the string\n",
        "a_string"
      ]
    },
    {
      "cell_type": "code",
      "execution_count": 51,
      "metadata": {
        "deletable": true,
        "editable": true,
        "id": "knvX4oW_PACT",
        "outputId": "330dfd0e-1073-4f0a-d666-3c19fcdb58a0",
        "colab": {
          "base_uri": "https://localhost:8080/"
        }
      },
      "outputs": [
        {
          "output_type": "execute_result",
          "data": {
            "text/plain": [
              "3"
            ]
          },
          "metadata": {},
          "execution_count": 51
        }
      ],
      "source": [
        "# Count number of occurences of a substring in the string\n",
        "a_string.count('i')"
      ]
    },
    {
      "cell_type": "code",
      "execution_count": 52,
      "metadata": {
        "deletable": true,
        "editable": true,
        "id": "uGEoR1gPPACT",
        "outputId": "566348d4-b442-4dd1-ae5d-0fc6bba81dd7",
        "colab": {
          "base_uri": "https://localhost:8080/"
        }
      },
      "outputs": [
        {
          "output_type": "execute_result",
          "data": {
            "text/plain": [
              "1"
            ]
          },
          "metadata": {},
          "execution_count": 52
        }
      ],
      "source": [
        "# Count number of occurences of a substring in the string after a certain position\n",
        "a_string.count('i', 7)"
      ]
    },
    {
      "cell_type": "code",
      "execution_count": 53,
      "metadata": {
        "deletable": true,
        "editable": true,
        "id": "1AQbuHR_PACT",
        "outputId": "71236589-61e2-4f1e-8cc0-7fe7685681a9",
        "colab": {
          "base_uri": "https://localhost:8080/"
        }
      },
      "outputs": [
        {
          "output_type": "execute_result",
          "data": {
            "text/plain": [
              "2"
            ]
          },
          "metadata": {},
          "execution_count": 53
        }
      ],
      "source": [
        "# Count number of occurences of a substring in the string\n",
        "a_string.count('is')"
      ]
    },
    {
      "cell_type": "code",
      "execution_count": 54,
      "metadata": {
        "deletable": true,
        "editable": true,
        "id": "mSt8g7NiPACT",
        "outputId": "1f74ee16-ac0b-47a2-9d21-fe1093573b44",
        "colab": {
          "base_uri": "https://localhost:8080/"
        }
      },
      "outputs": [
        {
          "output_type": "execute_result",
          "data": {
            "text/plain": [
              "False"
            ]
          },
          "metadata": {},
          "execution_count": 54
        }
      ],
      "source": [
        "# Does the string start with 'this'?\n",
        "a_string.startswith('this')"
      ]
    },
    {
      "cell_type": "code",
      "execution_count": 55,
      "metadata": {
        "deletable": true,
        "editable": true,
        "id": "KVV_8GogPACU",
        "outputId": "55ed1788-c96d-4996-fcaf-5114ad62072b",
        "colab": {
          "base_uri": "https://localhost:8080/"
        }
      },
      "outputs": [
        {
          "output_type": "execute_result",
          "data": {
            "text/plain": [
              "True"
            ]
          },
          "metadata": {},
          "execution_count": 55
        }
      ],
      "source": [
        "# Does the lowercase string start with 'this'?\n",
        "a_string.lower().startswith('this')"
      ]
    },
    {
      "cell_type": "code",
      "execution_count": 56,
      "metadata": {
        "deletable": true,
        "editable": true,
        "id": "gbpcR1bWPACU",
        "outputId": "bc05534f-7d49-4e0b-87ea-6269179529ac",
        "colab": {
          "base_uri": "https://localhost:8080/"
        }
      },
      "outputs": [
        {
          "output_type": "execute_result",
          "data": {
            "text/plain": [
              "True"
            ]
          },
          "metadata": {},
          "execution_count": 56
        }
      ],
      "source": [
        "# Does the string end with 'Ng'?\n",
        "a_string.endswith('Ng')"
      ]
    },
    {
      "cell_type": "code",
      "execution_count": 57,
      "metadata": {
        "deletable": true,
        "editable": true,
        "id": "zsla7m8xPACU",
        "outputId": "5541c66a-1ee0-48ec-cab6-0998ff24431e",
        "colab": {
          "base_uri": "https://localhost:8080/",
          "height": 35
        }
      },
      "outputs": [
        {
          "output_type": "execute_result",
          "data": {
            "text/plain": [
              "'tHXYZ XYZ a sTriNg'"
            ],
            "application/vnd.google.colaboratory.intrinsic+json": {
              "type": "string"
            }
          },
          "metadata": {},
          "execution_count": 57
        }
      ],
      "source": [
        "# Return a version of the string with a substring replaced with something else\n",
        "a_string.replace('is', 'XYZ')"
      ]
    },
    {
      "cell_type": "code",
      "execution_count": 58,
      "metadata": {
        "deletable": true,
        "editable": true,
        "id": "jMMa-FF8PACU",
        "outputId": "181e72c4-e564-49f0-8758-7bacc1356e5d",
        "colab": {
          "base_uri": "https://localhost:8080/",
          "height": 35
        }
      },
      "outputs": [
        {
          "output_type": "execute_result",
          "data": {
            "text/plain": [
              "'tH!s !s a sTr!Ng'"
            ],
            "application/vnd.google.colaboratory.intrinsic+json": {
              "type": "string"
            }
          },
          "metadata": {},
          "execution_count": 58
        }
      ],
      "source": [
        "# Return a version of the string with a substring replaced with something else\n",
        "a_string.replace('i', '!')"
      ]
    },
    {
      "cell_type": "code",
      "execution_count": 59,
      "metadata": {
        "deletable": true,
        "editable": true,
        "id": "XFY_Hd5EPACU",
        "outputId": "44cf9917-6c40-4f85-bbc2-2742b8b7cff3",
        "colab": {
          "base_uri": "https://localhost:8080/",
          "height": 35
        }
      },
      "outputs": [
        {
          "output_type": "execute_result",
          "data": {
            "text/plain": [
              "'tH!s !s a sTriNg'"
            ],
            "application/vnd.google.colaboratory.intrinsic+json": {
              "type": "string"
            }
          },
          "metadata": {},
          "execution_count": 59
        }
      ],
      "source": [
        "# Return a version of the string with the first 2 occurences a substring replaced with something else\n",
        "a_string.replace('i', '!', 2)"
      ]
    },
    {
      "cell_type": "markdown",
      "metadata": {
        "collapsed": true,
        "deletable": true,
        "editable": true,
        "id": "PN4N0RKjPACU"
      },
      "source": [
        "## Some methods on list objects\n",
        "\n",
        "- **`.append(item)`** to add a single item to the list\n",
        "- **`.extend([item1, item2, ...])`** to add multiple items to the list\n",
        "- **`.remove(item)`** to remove a single item from the list\n",
        "- **`.pop()`** to remove and return the item at the end of the list\n",
        "- **`.pop(index)`** to remove and return an item at an index"
      ]
    },
    {
      "cell_type": "code",
      "execution_count": null,
      "metadata": {
        "collapsed": true,
        "deletable": true,
        "editable": true,
        "id": "LchnKlgsPACV"
      },
      "outputs": [],
      "source": []
    },
    {
      "cell_type": "markdown",
      "metadata": {
        "deletable": true,
        "editable": true,
        "id": "zr0nvJbePACV"
      },
      "source": [
        "## Python \"if statements\" and \"while loops\"\n",
        "\n",
        "Conditional expressions can be used with these two **conditional statements**.\n",
        "\n",
        "The **if statement** allows you to test a condition and perform some actions if the condition evaluates to `True`. You can also provide `elif` and/or `else` clauses to an if statement to take alternative actions if the condition evaluates to `False`.\n",
        "\n",
        "The **while loop** will keep looping until its conditional expression evaluates to `False`.\n",
        "\n",
        "> Note: It is possible to \"loop forever\" when using a while loop with a conditional expression that never evaluates to `False`.\n",
        ">\n",
        "> Note: Since the **for loop** will iterate over a container of items until there are no more, there is no need to specify a \"stop looping\" condition."
      ]
    },
    {
      "cell_type": "code",
      "execution_count": 60,
      "metadata": {
        "collapsed": true,
        "deletable": true,
        "editable": true,
        "id": "nO3iP3zyPACV",
        "colab": {
          "base_uri": "https://localhost:8080/"
        },
        "outputId": "277ad42a-f36c-4ee0-d330-244dbca481d1"
      },
      "outputs": [
        {
          "output_type": "stream",
          "name": "stdout",
          "text": [
            "h\n",
            "e\n",
            "l\n",
            "l\n",
            "o\n"
          ]
        }
      ],
      "source": [
        "# Let's say we want to print each character in the string \"hello\"\n",
        "\n",
        "# We can do this using a for loop:\n",
        "\n",
        "string = \"hello\"\n",
        "\n",
        "for char in string:\n",
        "  print(char)\n",
        "\n",
        "# Output:\n",
        "# h\n",
        "# e\n",
        "# l\n",
        "# l\n",
        "# o\n",
        "\n",
        "# The for loop iterates over each character in the string and prints it.\n",
        "\n"
      ]
    },
    {
      "cell_type": "markdown",
      "source": [
        "# For loops\n",
        "We can also use the for loop to perform a task on each character in the string.\n",
        "\n",
        "For example, let's say we want to print the ASCII value of each character in the string \"hello\":\n"
      ],
      "metadata": {
        "id": "CIvZdnyHrRKu"
      }
    },
    {
      "cell_type": "code",
      "execution_count": 61,
      "metadata": {
        "collapsed": true,
        "deletable": true,
        "editable": true,
        "id": "AYKo_s6FPACV",
        "colab": {
          "base_uri": "https://localhost:8080/"
        },
        "outputId": "3278c10c-1f4e-4212-9b2a-0a80476f5d09"
      },
      "outputs": [
        {
          "output_type": "stream",
          "name": "stdout",
          "text": [
            "104\n",
            "101\n",
            "108\n",
            "108\n",
            "111\n"
          ]
        }
      ],
      "source": [
        "\n",
        "string = \"hello\"\n",
        "\n",
        "for char in string:\n",
        "  print(ord(char))\n",
        "\n",
        "# Output:\n",
        "# 104\n",
        "# 101\n",
        "# 108\n",
        "# 108\n",
        "# 111\n",
        "\n",
        "# The ord() function returns the ASCII value of a character.\n"
      ]
    },
    {
      "cell_type": "code",
      "source": [
        "\n",
        "# We can also use the for loop to modify each character in a string.\n",
        "\n",
        "# For example, let's say we want to add 1 to the ASCII value of each character in the string \"hello\":\n",
        "\n",
        "string = \"hello\"\n",
        "\n",
        "modified_string = \"\"\n",
        "\n",
        "for char in string:\n",
        "  modified_string += chr(ord(char) + 1)\n",
        "\n",
        "print(modified_string)\n",
        "\n",
        "# Output:\n",
        "# ifmmp\n",
        "\n",
        "# The chr() function returns the character corresponding to the ASCII value.\n"
      ],
      "metadata": {
        "id": "9jdbloHBrfSQ",
        "colab": {
          "base_uri": "https://localhost:8080/"
        },
        "outputId": "bb60a12d-0dbe-4a73-94f1-27cc1c9a626a"
      },
      "execution_count": 62,
      "outputs": [
        {
          "output_type": "stream",
          "name": "stdout",
          "text": [
            "ifmmp\n"
          ]
        }
      ]
    },
    {
      "cell_type": "code",
      "source": [
        "\n",
        "# We can also use the for loop to access the index of each character in the string.\n",
        "\n",
        "# For example, let's say we want to print the index and character of each character in the string \"hello\":\n",
        "\n",
        "string = \"hello\"\n",
        "\n",
        "for i, char in enumerate(string):\n",
        "  print(f\"Index: {i}, Character: {char}\")\n",
        "\n",
        "# Output:\n",
        "# Index: 0, Character: h\n",
        "# Index: 1, Character: e\n",
        "# Index: 2, Character: l\n",
        "# Index: 3, Character: l\n",
        "# Index: 4, Character: o\n",
        "\n",
        "# The enumerate() function returns a tuple containing the index and value of each character in the string.\n"
      ],
      "metadata": {
        "id": "vY5U4eyyrlrR",
        "colab": {
          "base_uri": "https://localhost:8080/"
        },
        "outputId": "c732b511-32a0-479c-9902-9971809bd604"
      },
      "execution_count": 63,
      "outputs": [
        {
          "output_type": "stream",
          "name": "stdout",
          "text": [
            "Index: 0, Character: h\n",
            "Index: 1, Character: e\n",
            "Index: 2, Character: l\n",
            "Index: 3, Character: l\n",
            "Index: 4, Character: o\n"
          ]
        }
      ]
    },
    {
      "cell_type": "code",
      "source": [
        "\n",
        "# We can also use the range() function with the for loop to iterate over a specific range of indexes in the string.\n",
        "\n",
        "# For example, let's say we want to print the characters at even indices in the string \"hello\":\n",
        "\n",
        "string = \"hello\"\n",
        "\n",
        "for i in range(0, len(string), 2):\n",
        "  print(string[i])\n",
        "\n",
        "# Output:\n",
        "# h\n",
        "# l\n",
        "\n",
        "# The range() function returns a sequence of numbers, starting from the first argument, and increments by the second argument, and ends at the third argument.\n",
        "\n",
        "# In this case, we start from 0, increment by 2, and end at the length of the string, which prints the characters at even indices in the string.\n",
        "\n"
      ],
      "metadata": {
        "id": "kDlSX-SvrqQ7",
        "colab": {
          "base_uri": "https://localhost:8080/"
        },
        "outputId": "2737f4f1-220c-4c72-983e-4a0d97cfe6b5"
      },
      "execution_count": 64,
      "outputs": [
        {
          "output_type": "stream",
          "name": "stdout",
          "text": [
            "h\n",
            "l\n",
            "o\n"
          ]
        }
      ]
    },
    {
      "cell_type": "markdown",
      "metadata": {
        "deletable": true,
        "editable": true,
        "id": "ghOlkL-BPACW"
      },
      "source": [
        "## Defining functions and methods\n",
        "\n",
        "Functions are blocks of code that perform a specific task and can be called multiple times in a program.\n",
        "\n",
        "In Python, we define a function using the `def` keyword, followed by the function name and a set of parentheses that may include parameters. The block of code within the function is indented.\n",
        "\n",
        "Here is an example of a function that takes no parameters and returns no value:\n"
      ]
    },
    {
      "cell_type": "code",
      "execution_count": 4,
      "metadata": {
        "collapsed": true,
        "deletable": true,
        "editable": true,
        "id": "UajDhxhXPACW",
        "colab": {
          "base_uri": "https://localhost:8080/"
        },
        "outputId": "7c2d5008-f0aa-4e2b-ac84-df16995a4d9f"
      },
      "outputs": [
        {
          "output_type": "stream",
          "name": "stdout",
          "text": [
            "Hello!\n"
          ]
        }
      ],
      "source": [
        "def greet():\n",
        "  print(\"Hello!\")\n",
        "\n",
        "# To call the function, we simply use the function name followed by a set of parentheses:\n",
        "\n",
        "greet()"
      ]
    },
    {
      "cell_type": "markdown",
      "source": [
        " We can pass values to the function as arguments when we call the function. These values are called parameters.\n",
        "\n",
        "For example, let's say we want to greet someone by name:\n",
        "\n"
      ],
      "metadata": {
        "id": "rgyPE0ffsy4A"
      }
    },
    {
      "cell_type": "code",
      "execution_count": 3,
      "metadata": {
        "collapsed": true,
        "deletable": true,
        "editable": true,
        "id": "18lUKP-sPACX",
        "colab": {
          "base_uri": "https://localhost:8080/"
        },
        "outputId": "6bab7289-e12d-4890-a0dd-b1424f0b2719"
      },
      "outputs": [
        {
          "output_type": "stream",
          "name": "stdout",
          "text": [
            "Hello, John!\n"
          ]
        }
      ],
      "source": [
        "def greet(name):\n",
        "  print(f\"Hello, {name}!\")\n",
        "\n",
        "greet(\"John\")\n"
      ]
    },
    {
      "cell_type": "markdown",
      "source": [
        "\n",
        "Functions can return a value using the `return` keyword.\n",
        "\n",
        "For example, let's say we want to create a function that calculates the area of a rectangle:\n",
        "\n"
      ],
      "metadata": {
        "id": "mqs31KrLtPI8"
      }
    },
    {
      "cell_type": "code",
      "source": [
        "def calculate_area(length, width):\n",
        "  area = length * width\n",
        "  return area\n",
        "\n",
        "# To retrieve the returned value, we can assign the function call to a variable:\n",
        "\n",
        "rectangle_area = calculate_area(10, 20)\n",
        "print(rectangle_area)\n"
      ],
      "metadata": {
        "colab": {
          "base_uri": "https://localhost:8080/"
        },
        "id": "Jpvpp-2-tSpJ",
        "outputId": "c8a42205-83e8-4f0b-c44b-2b55b47f3e6f"
      },
      "execution_count": 2,
      "outputs": [
        {
          "output_type": "stream",
          "name": "stdout",
          "text": [
            "200\n"
          ]
        }
      ]
    },
    {
      "cell_type": "markdown",
      "source": [
        "Part 4"
      ],
      "metadata": {
        "id": "htcCmjNasNNI"
      }
    },
    {
      "cell_type": "code",
      "source": [
        "word = \"hello\"\n",
        "for char in word:\n",
        "  print(ord(char))"
      ],
      "metadata": {
        "id": "zwlnmrt1sQSy",
        "outputId": "7256b281-0efb-4a94-f6e2-f1286fb35f07",
        "colab": {
          "base_uri": "https://localhost:8080/"
        }
      },
      "execution_count": 67,
      "outputs": [
        {
          "output_type": "stream",
          "name": "stdout",
          "text": [
            "104\n",
            "101\n",
            "108\n",
            "108\n",
            "111\n"
          ]
        }
      ]
    },
    {
      "cell_type": "markdown",
      "source": [
        "part 5"
      ],
      "metadata": {
        "id": "kh6h4XBRsvjm"
      }
    },
    {
      "cell_type": "code",
      "source": [
        "word = [104, 101, 108, 108, 111]\n",
        "for value in word:\n",
        "  print(chr(value))\n"
      ],
      "metadata": {
        "id": "zBckxQQqs1EG",
        "outputId": "75ed5322-d7fe-472c-b249-75610a362940",
        "colab": {
          "base_uri": "https://localhost:8080/"
        }
      },
      "execution_count": 71,
      "outputs": [
        {
          "output_type": "stream",
          "name": "stdout",
          "text": [
            "h\n",
            "e\n",
            "l\n",
            "l\n",
            "o\n"
          ]
        }
      ]
    }
  ],
  "metadata": {
    "kernelspec": {
      "display_name": "Python 3",
      "language": "python",
      "name": "python3"
    },
    "language_info": {
      "codemirror_mode": {
        "name": "ipython",
        "version": 3
      },
      "file_extension": ".py",
      "mimetype": "text/x-python",
      "name": "python",
      "nbconvert_exporter": "python",
      "pygments_lexer": "ipython3",
      "version": "3.5.2"
    },
    "colab": {
      "provenance": []
    }
  },
  "nbformat": 4,
  "nbformat_minor": 0
}